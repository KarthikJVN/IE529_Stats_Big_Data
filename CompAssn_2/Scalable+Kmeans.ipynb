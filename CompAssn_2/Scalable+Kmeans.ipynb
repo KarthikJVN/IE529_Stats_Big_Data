{
 "cells": [
  {
   "cell_type": "markdown",
   "metadata": {},
   "source": [
    "## Kmeans \n"
   ]
  },
  {
   "cell_type": "code",
   "execution_count": 15,
   "metadata": {},
   "outputs": [],
   "source": [
    "#For visualisation\n",
    "\n",
    "import pandas as pd\n",
    "import numpy as np\n",
    "df = pd.read_table('C:/Users/rajku/Desktop/Anaconda/clustering.csv', sep=',')\n",
    "df = np.array(df)\n",
    "from sklearn.metrics.pairwise import euclidean_distances"
   ]
  },
  {
   "cell_type": "code",
   "execution_count": 16,
   "metadata": {
    "collapsed": true
   },
   "outputs": [],
   "source": [
    "#Distance Function\n",
    "def distance_cal (data, centres):\n",
    "    \"\"\" \n",
    "    Calculate distance from data to each center\n",
    "    Input: \n",
    "    data n * d\n",
    "    centers k*d  \n",
    "    \"\"\"\n",
    "    #print(np.shape(centres))\n",
    "    n = np.shape(data)[0]\n",
    "    #print(np.shape(centres))\n",
    "    k = np.shape(centres)[0]\n",
    "    \n",
    "    #print('k')\n",
    "    dist = np.zeros(shape=(n,k))\n",
    "    for l1 in range(0,n):\n",
    "        for l2 in range(0,k):\n",
    "            dist[l1][l2] = np.linalg.norm((np.array(data[l1])- np.array(centres[l2]))**2)\n",
    "    return dist"
   ]
  },
  {
   "cell_type": "code",
   "execution_count": 50,
   "metadata": {},
   "outputs": [],
   "source": [
    "def k_means(data, centres, k, tol):\n",
    "    \"\"\"\n",
    "    Kmeans algorihtm \n",
    "    input data\n",
    "    output: new clusters, centres\n",
    "    \n",
    "    \"\"\"\n",
    "    n = data.shape[0]\n",
    "    epochs = 100\n",
    "    c = 0 \n",
    "    for epoch in range(0,epochs):\n",
    "        #calculated distances\n",
    "        print (centres.shape)\n",
    "\n",
    "        dist = distance_cal (data, centres)\n",
    "        #assign cluster labels\n",
    "        cluster_labels = np.argmin(dist, axis = 1) # n*1\n",
    "        #new centroids\n",
    "        centres_updates = np.zeros(shape = centres.shape)\n",
    "        \n",
    "        for j in range(0, k):\n",
    "            points = []\n",
    "            if sum(cluster_labels == j) == 0:\n",
    "                centres_updates[j] = centres[j]\n",
    "            else:\n",
    "               # print (data[0])\n",
    "                for d,label in zip(data, cluster_labels):\n",
    "                    if label == j:\n",
    "                        points.append(list(d))\n",
    "                \n",
    "                centres_updates[j] = np.mean(points,axis = 0)                 \n",
    "                np.mean(data[cluster_labels == j, :], axis=0)\n",
    "               \n",
    "        if (np.mean(np.amin(euclidean_distances(centres, centres_updates), axis = 1)) <= tol):\n",
    "            print (\"Convergence, iterations:\", c)\n",
    "            break \n",
    "        c+=1\n",
    "        centres = centres_updates\n",
    "        \n",
    "    return({\"Iterations\":c,     \"Centroids\": centres, \n",
    "            \"Labels\": cluster_labels, \"Cost\": (np.mean(np.amin(euclidean_distances(data, centres), axis = 1)))})"
   ]
  },
  {
   "cell_type": "markdown",
   "metadata": {},
   "source": [
    "### Random Intialization"
   ]
  },
  {
   "cell_type": "code",
   "execution_count": 51,
   "metadata": {},
   "outputs": [
    {
     "name": "stdout",
     "output_type": "stream",
     "text": [
      "(2, 2)\n",
      "(2, 2)\n",
      "(2, 2)\n",
      "(2, 2)\n",
      "(2, 2)\n",
      "Convergence, iterations: 4\n"
     ]
    },
    {
     "data": {
      "text/plain": [
       "{'Centroids': array([[-0.22252391, -0.05745518],\n",
       "        [ 4.8043181 ,  1.04778105]]),\n",
       " 'Cost': 1.5249562292132441,\n",
       " 'Iterations': 4,\n",
       " 'Labels': array([0, 0, 0, ..., 1, 1, 1], dtype=int64)}"
      ]
     },
     "execution_count": 51,
     "metadata": {},
     "output_type": "execute_result"
    }
   ],
   "source": [
    "k = 2\n",
    "\n",
    "Rcentroids_initial = df[np.random.choice(range(df.shape[0]), 2, replace=False),:]\n",
    "\n",
    "Routput_k = k_means(df, Rcentroids_initial,k, 0.000000001)\n",
    "Routput_k\n"
   ]
  },
  {
   "cell_type": "code",
   "execution_count": 49,
   "metadata": {},
   "outputs": [
    {
     "data": {
      "image/png": "[encoded data removed]",
      "text/plain": [
       "<matplotlib.figure.Figure at 0x172435640b8>"
      ]
     },
     "metadata": {},
     "output_type": "display_data"
    }
   ],
   "source": [
    "import matplotlib.pyplot as plt\n",
    "\n",
    "cmap = plt.get_cmap('viridis')\n",
    "colors = [cmap(i) for i in np.linspace(0, 1, k)]\n",
    "centroids = Routput_k[\"Centroids\"]\n",
    "labels = Routput_k[\"Labels\"]\n",
    "\n",
    "for i,color in enumerate(colors,start =0):\n",
    "    plt.scatter(df[labels==i, :][:,0], df[labels==i, :][:,1], color=color)\n",
    "\n",
    "for j in range(k):\n",
    "    plt.scatter(centroids[j,0],centroids[j,1],color = ['w', 'red'],marker='x')\n",
    "plt.show()"
   ]
  },
  {
   "cell_type": "code",
   "execution_count": 58,
   "metadata": {},
   "outputs": [
    {
     "name": "stdout",
     "output_type": "stream",
     "text": [
      "(2, 2)\n",
      "(2, 2)\n",
      "(2, 2)\n",
      "(2, 2)\n",
      "(2, 2)\n",
      "Convergence, iterations: 4\n",
      "{'Iterations': 4, 'Centroids': array([[ 4.8043181 ,  1.04778105],\n",
      "       [-0.22252391, -0.05745518]]), 'Labels': array([1, 1, 1, ..., 0, 0, 0], dtype=int64), 'Cost': 1.5249562292132441}\n"
     ]
    },
    {
     "ename": "TypeError",
     "evalue": "int() argument must be a string, a bytes-like object or a number, not 'list'",
     "output_type": "error",
     "traceback": [
      "\u001b[1;31m---------------------------------------------------------------------------\u001b[0m",
      "\u001b[1;31mTypeError\u001b[0m                                 Traceback (most recent call last)",
      "\u001b[1;32m~\\Anaconda3\\lib\\site-packages\\numpy\\core\\function_base.py\u001b[0m in \u001b[0;36m_index_deprecate\u001b[1;34m(i, stacklevel)\u001b[0m\n\u001b[0;32m     14\u001b[0m     \u001b[1;32mtry\u001b[0m\u001b[1;33m:\u001b[0m\u001b[1;33m\u001b[0m\u001b[0m\n\u001b[1;32m---> 15\u001b[1;33m         \u001b[0mi\u001b[0m \u001b[1;33m=\u001b[0m \u001b[0moperator\u001b[0m\u001b[1;33m.\u001b[0m\u001b[0mindex\u001b[0m\u001b[1;33m(\u001b[0m\u001b[0mi\u001b[0m\u001b[1;33m)\u001b[0m\u001b[1;33m\u001b[0m\u001b[0m\n\u001b[0m\u001b[0;32m     16\u001b[0m     \u001b[1;32mexcept\u001b[0m \u001b[0mTypeError\u001b[0m\u001b[1;33m:\u001b[0m\u001b[1;33m\u001b[0m\u001b[0m\n",
      "\u001b[1;31mTypeError\u001b[0m: 'list' object cannot be interpreted as an integer",
      "\nDuring handling of the above exception, another exception occurred:\n",
      "\u001b[1;31mTypeError\u001b[0m                                 Traceback (most recent call last)",
      "\u001b[1;32m<ipython-input-58-8c71a2fbddf9>\u001b[0m in \u001b[0;36m<module>\u001b[1;34m()\u001b[0m\n\u001b[0;32m      6\u001b[0m     \u001b[0mprint\u001b[0m\u001b[1;33m(\u001b[0m\u001b[0mRoutput_k\u001b[0m\u001b[1;33m)\u001b[0m\u001b[1;33m\u001b[0m\u001b[0m\n\u001b[0;32m      7\u001b[0m     \u001b[0mcmap\u001b[0m \u001b[1;33m=\u001b[0m \u001b[0mplt\u001b[0m\u001b[1;33m.\u001b[0m\u001b[0mget_cmap\u001b[0m\u001b[1;33m(\u001b[0m\u001b[1;34m'viridis'\u001b[0m\u001b[1;33m)\u001b[0m\u001b[1;33m\u001b[0m\u001b[0m\n\u001b[1;32m----> 8\u001b[1;33m     \u001b[0mcolors\u001b[0m \u001b[1;33m=\u001b[0m \u001b[1;33m[\u001b[0m\u001b[0mcmap\u001b[0m\u001b[1;33m(\u001b[0m\u001b[0mi\u001b[0m\u001b[1;33m)\u001b[0m \u001b[1;32mfor\u001b[0m \u001b[0mi\u001b[0m \u001b[1;32min\u001b[0m \u001b[0mnp\u001b[0m\u001b[1;33m.\u001b[0m\u001b[0mlinspace\u001b[0m\u001b[1;33m(\u001b[0m\u001b[1;36m0\u001b[0m\u001b[1;33m,\u001b[0m \u001b[1;36m1\u001b[0m\u001b[1;33m,\u001b[0m \u001b[0mk\u001b[0m\u001b[1;33m)\u001b[0m\u001b[1;33m]\u001b[0m\u001b[1;33m\u001b[0m\u001b[0m\n\u001b[0m\u001b[0;32m      9\u001b[0m     \u001b[0mcentroids\u001b[0m \u001b[1;33m=\u001b[0m \u001b[0mRoutput_k\u001b[0m\u001b[1;33m[\u001b[0m\u001b[1;34m\"Centroids\"\u001b[0m\u001b[1;33m]\u001b[0m\u001b[1;33m\u001b[0m\u001b[0m\n\u001b[0;32m     10\u001b[0m     \u001b[0mlabels\u001b[0m \u001b[1;33m=\u001b[0m \u001b[0mRoutput_k\u001b[0m\u001b[1;33m[\u001b[0m\u001b[1;34m\"Labels\"\u001b[0m\u001b[1;33m]\u001b[0m\u001b[1;33m\u001b[0m\u001b[0m\n",
      "\u001b[1;32m~\\Anaconda3\\lib\\site-packages\\numpy\\core\\function_base.py\u001b[0m in \u001b[0;36mlinspace\u001b[1;34m(start, stop, num, endpoint, retstep, dtype)\u001b[0m\n\u001b[0;32m     99\u001b[0m     \"\"\"\n\u001b[0;32m    100\u001b[0m     \u001b[1;31m# 2016-02-25, 1.12\u001b[0m\u001b[1;33m\u001b[0m\u001b[1;33m\u001b[0m\u001b[0m\n\u001b[1;32m--> 101\u001b[1;33m     \u001b[0mnum\u001b[0m \u001b[1;33m=\u001b[0m \u001b[0m_index_deprecate\u001b[0m\u001b[1;33m(\u001b[0m\u001b[0mnum\u001b[0m\u001b[1;33m)\u001b[0m\u001b[1;33m\u001b[0m\u001b[0m\n\u001b[0m\u001b[0;32m    102\u001b[0m     \u001b[1;32mif\u001b[0m \u001b[0mnum\u001b[0m \u001b[1;33m<\u001b[0m \u001b[1;36m0\u001b[0m\u001b[1;33m:\u001b[0m\u001b[1;33m\u001b[0m\u001b[0m\n\u001b[0;32m    103\u001b[0m         \u001b[1;32mraise\u001b[0m \u001b[0mValueError\u001b[0m\u001b[1;33m(\u001b[0m\u001b[1;34m\"Number of samples, %s, must be non-negative.\"\u001b[0m \u001b[1;33m%\u001b[0m \u001b[0mnum\u001b[0m\u001b[1;33m)\u001b[0m\u001b[1;33m\u001b[0m\u001b[0m\n",
      "\u001b[1;32m~\\Anaconda3\\lib\\site-packages\\numpy\\core\\function_base.py\u001b[0m in \u001b[0;36m_index_deprecate\u001b[1;34m(i, stacklevel)\u001b[0m\n\u001b[0;32m     17\u001b[0m         msg = (\"object of type {} cannot be safely interpreted as \"\n\u001b[0;32m     18\u001b[0m                \"an integer.\".format(type(i)))\n\u001b[1;32m---> 19\u001b[1;33m         \u001b[0mi\u001b[0m \u001b[1;33m=\u001b[0m \u001b[0mint\u001b[0m\u001b[1;33m(\u001b[0m\u001b[0mi\u001b[0m\u001b[1;33m)\u001b[0m\u001b[1;33m\u001b[0m\u001b[0m\n\u001b[0m\u001b[0;32m     20\u001b[0m         \u001b[0mstacklevel\u001b[0m \u001b[1;33m+=\u001b[0m \u001b[1;36m1\u001b[0m\u001b[1;33m\u001b[0m\u001b[0m\n\u001b[0;32m     21\u001b[0m         \u001b[0mwarnings\u001b[0m\u001b[1;33m.\u001b[0m\u001b[0mwarn\u001b[0m\u001b[1;33m(\u001b[0m\u001b[0mmsg\u001b[0m\u001b[1;33m,\u001b[0m \u001b[0mDeprecationWarning\u001b[0m\u001b[1;33m,\u001b[0m \u001b[0mstacklevel\u001b[0m\u001b[1;33m=\u001b[0m\u001b[0mstacklevel\u001b[0m\u001b[1;33m)\u001b[0m\u001b[1;33m\u001b[0m\u001b[0m\n",
      "\u001b[1;31mTypeError\u001b[0m: int() argument must be a string, a bytes-like object or a number, not 'list'"
     ]
    }
   ],
   "source": [
    "k = [2,3,4,6,8,9]\n",
    "for i in k:\n",
    "    Rcentroids_initial = df[np.random.choice(range(df.shape[0]), i, replace=False),:]\n",
    "\n",
    "    Routput_k = k_means(df, Rcentroids_initial,i, 0.001)\n",
    "    print(Routput_k)\n",
    "    cmap = plt.get_cmap('viridis')\n",
    "    colors = [cmap(i) for i in np.linspace(0, 1, k)]\n",
    "    centroids = Routput_k[\"Centroids\"]\n",
    "    labels = Routput_k[\"Labels\"]\n"
   ]
  }
 ],
 "metadata": {
  "kernelspec": {
   "display_name": "Python 3",
   "language": "python",
   "name": "python3"
  },
  "language_info": {
   "codemirror_mode": {
    "name": "ipython",
    "version": 3
   },
   "file_extension": ".py",
   "mimetype": "text/x-python",
   "name": "python",
   "nbconvert_exporter": "python",
   "pygments_lexer": "ipython3",
   "version": "3.6.3"
  }
 },
 "nbformat": 4,
 "nbformat_minor": 2
}
